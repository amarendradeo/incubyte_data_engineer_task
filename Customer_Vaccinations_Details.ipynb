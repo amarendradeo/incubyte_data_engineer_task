{
 "cells": [
  {
   "cell_type": "code",
   "execution_count": 1,
   "id": "ba056669",
   "metadata": {},
   "outputs": [
    {
     "name": "stdout",
     "output_type": "stream",
     "text": [
      "<mysql.connector.connection_cext.CMySQLConnection object at 0x0000026226956EB0>\n"
     ]
    }
   ],
   "source": [
    "import mysql.connector\n",
    "db_connection = mysql.connector.connect(\n",
    "  host=\"localhost\",\n",
    "  user=\"root\",\n",
    "  passwd=\"2006\"\n",
    ")\n",
    "print(db_connection)"
   ]
  },
  {
   "cell_type": "code",
   "execution_count": 2,
   "id": "128a1e83",
   "metadata": {},
   "outputs": [],
   "source": [
    "db = mysql.connector.connect(\n",
    "  host=\"localhost\",\n",
    "  user=\"root\",\n",
    "  password=\"2006\",\n",
    "  database=\"vaccination_data\"\n",
    ")\n",
    "  "
   ]
  },
  {
   "cell_type": "code",
   "execution_count": 3,
   "id": "ed0c8e33",
   "metadata": {},
   "outputs": [],
   "source": [
    "db_cursor = db.cursor()"
   ]
  },
  {
   "cell_type": "code",
   "execution_count": 4,
   "id": "4fc2c124",
   "metadata": {},
   "outputs": [
    {
     "name": "stdout",
     "output_type": "stream",
     "text": [
      "('country_name_au',)\n",
      "('country_name_ind',)\n",
      "('country_name_nyc',)\n",
      "('country_name_phil',)\n",
      "('country_name_usa',)\n",
      "('customer_details',)\n"
     ]
    }
   ],
   "source": [
    "db_cursor.execute(\"SHOW TABLES\")\n",
    "for table in db_cursor:\n",
    "    print(table)"
   ]
  },
  {
   "cell_type": "code",
   "execution_count": 5,
   "id": "354fdb80",
   "metadata": {},
   "outputs": [
    {
     "name": "stdout",
     "output_type": "stream",
     "text": [
      "\t\n",
      "('Customer_Name', b'varchar(255)', 'NO', '', None, '')\n",
      "\t\n",
      "('Customer_ID', b'int', 'NO', 'PRI', None, 'auto_increment')\n",
      "\t\n",
      "('Customer_Open_Date', b'date', 'NO', '', None, '')\n",
      "\t\n",
      "('Last_Consulted_Date', b'date', 'YES', '', None, '')\n",
      "\t\n",
      "('Vaccination_Type', b'char(5)', 'YES', '', None, '')\n",
      "\t\n",
      "('Doctor_Consulted', b'char(255)', 'YES', '', None, '')\n",
      "\t\n",
      "('State_', b'char(5)', 'YES', '', None, '')\n",
      "\t\n",
      "('Country', b'char(5)', 'YES', '', None, '')\n",
      "\t\n",
      "('Post_Code', b'int', 'YES', '', None, '')\n",
      "\t\n",
      "('Date_of_Birth', b'date', 'YES', '', None, '')\n",
      "\t\n",
      "('Active_Customer', b'char(1)', 'YES', '', None, '')\n"
     ]
    }
   ],
   "source": [
    "db_cursor.execute(\"DESCRIBE customer_details\")\n",
    "\n",
    "db_result = db_cursor.fetchall()\n",
    "\n",
    "for x in db_result:\n",
    "    print('\\t')\n",
    "    print(x)\n"
   ]
  },
  {
   "cell_type": "code",
   "execution_count": 6,
   "id": "6913083c",
   "metadata": {},
   "outputs": [
    {
     "name": "stdout",
     "output_type": "stream",
     "text": [
      "\t\n",
      "('Jacob', 1256, datetime.date(2010, 10, 12), datetime.date(2012, 10, 13), 'MVD', 'Paul', 'VIC', 'AU', None, datetime.date(1987, 3, 6), 'A')\n",
      "\t\n",
      "('Matt', 12345, datetime.date(2010, 10, 12), datetime.date(2012, 10, 13), 'MVD', 'Paul', 'BOS', 'NYC', None, datetime.date(1987, 3, 6), 'A')\n",
      "\t\n",
      "('Alex', 123457, datetime.date(2010, 10, 12), datetime.date(2012, 10, 13), 'MVD', 'Paul', 'SA', 'USA', None, datetime.date(1987, 3, 6), 'A')\n",
      "\t\n",
      "('John', 123458, datetime.date(2010, 10, 12), datetime.date(2012, 10, 13), 'MVD', 'Paul', 'TN', 'IND', None, datetime.date(1987, 3, 6), 'A')\n",
      "\t\n",
      "('Mathew', 123459, datetime.date(2010, 10, 12), datetime.date(2012, 10, 13), 'MVD', 'Paul', 'WAS', 'PHIL', None, datetime.date(1987, 3, 6), 'A')\n"
     ]
    }
   ],
   "source": [
    "db_cursor.execute(\"SELECT * FROM customer_details\")\n",
    "\n",
    "db_result = db_cursor.fetchall()\n",
    "\n",
    "for x in db_result:\n",
    "    print('\\t')\n",
    "    print(x)\n"
   ]
  },
  {
   "cell_type": "code",
   "execution_count": 7,
   "id": "c3d74972",
   "metadata": {},
   "outputs": [
    {
     "name": "stdout",
     "output_type": "stream",
     "text": [
      "('Customer_Name', b'varchar(255)', 'YES', '', None, '')\n",
      "('Customer_ID', b'int', 'YES', '', None, '')\n",
      "('Last_Consulted_Date', b'date', 'YES', '', None, '')\n",
      "('Vaccination_Type', b'char(5)', 'YES', '', None, '')\n"
     ]
    }
   ],
   "source": [
    "db_cursor.execute(\"DESCRIBE country_name_nyc\")\n",
    "\n",
    "db_result = db_cursor.fetchall()\n",
    "\n",
    "for x in db_result:\n",
    "    print(x)\n"
   ]
  },
  {
   "cell_type": "markdown",
   "id": "19188bea",
   "metadata": {},
   "source": [
    "# Load data into tables, one table per country"
   ]
  },
  {
   "cell_type": "code",
   "execution_count": 8,
   "id": "cc38a9fc",
   "metadata": {},
   "outputs": [
    {
     "name": "stdout",
     "output_type": "stream",
     "text": [
      "('Matt', 12345, datetime.date(2012, 10, 13), 'MVD')\n"
     ]
    }
   ],
   "source": [
    "db_cursor.execute(\"SELECT * FROM country_name_nyc\")\n",
    "\n",
    "db_result = db_cursor.fetchall()\n",
    "\n",
    "for x in db_result:\n",
    "    print(x)"
   ]
  },
  {
   "cell_type": "code",
   "execution_count": 9,
   "id": "784ea319",
   "metadata": {},
   "outputs": [
    {
     "name": "stdout",
     "output_type": "stream",
     "text": [
      "('Alex', 123457, datetime.date(2012, 10, 13), 'MVD')\n"
     ]
    }
   ],
   "source": [
    "db_cursor.execute(\"SELECT * FROM country_name_usa\")\n",
    "\n",
    "db_result = db_cursor.fetchall()\n",
    "\n",
    "for x in db_result:\n",
    "    print(x)"
   ]
  },
  {
   "cell_type": "code",
   "execution_count": 10,
   "id": "105c4877",
   "metadata": {},
   "outputs": [
    {
     "name": "stdout",
     "output_type": "stream",
     "text": [
      "('John', 123458, datetime.date(2012, 10, 13), 'MVD')\n"
     ]
    }
   ],
   "source": [
    "db_cursor.execute(\"SELECT * FROM country_name_ind\")\n",
    "\n",
    "db_result = db_cursor.fetchall()\n",
    "\n",
    "for x in db_result:\n",
    "    print(x)"
   ]
  },
  {
   "cell_type": "code",
   "execution_count": 11,
   "id": "0fbb8fa9",
   "metadata": {},
   "outputs": [
    {
     "name": "stdout",
     "output_type": "stream",
     "text": [
      "('Mathew', 123459, datetime.date(2012, 10, 13), 'MVD')\n"
     ]
    }
   ],
   "source": [
    "db_cursor.execute(\"SELECT * FROM country_name_phil\")\n",
    "\n",
    "db_result = db_cursor.fetchall()\n",
    "\n",
    "for x in db_result:\n",
    "    print(x)"
   ]
  },
  {
   "cell_type": "code",
   "execution_count": 12,
   "id": "ba4a5cb9",
   "metadata": {},
   "outputs": [
    {
     "name": "stdout",
     "output_type": "stream",
     "text": [
      "('Jacob', 1256, datetime.date(2012, 10, 13), 'MVD')\n"
     ]
    }
   ],
   "source": [
    "db_cursor.execute(\"SELECT * FROM country_name_au\")\n",
    "\n",
    "db_result = db_cursor.fetchall()\n",
    "\n",
    "for x in db_result:\n",
    "    print(x)"
   ]
  },
  {
   "cell_type": "code",
   "execution_count": null,
   "id": "c9999edb",
   "metadata": {},
   "outputs": [],
   "source": []
  }
 ],
 "metadata": {
  "kernelspec": {
   "display_name": "Python 3",
   "language": "python",
   "name": "python3"
  },
  "language_info": {
   "codemirror_mode": {
    "name": "ipython",
    "version": 3
   },
   "file_extension": ".py",
   "mimetype": "text/x-python",
   "name": "python",
   "nbconvert_exporter": "python",
   "pygments_lexer": "ipython3",
   "version": "3.8.8"
  }
 },
 "nbformat": 4,
 "nbformat_minor": 5
}
